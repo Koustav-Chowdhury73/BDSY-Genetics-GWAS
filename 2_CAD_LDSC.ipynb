{
 "cells": [
  {
   "cell_type": "markdown",
   "metadata": {},
   "source": [
    "## Description\n",
    "There are three main parts:\n",
    "1. Preliminary processing for munging\n",
    "2. Munging for LDSC\n",
    "3. LDSC to calculate heritability"
   ]
  },
  {
   "cell_type": "markdown",
   "metadata": {},
   "source": [
    "## 1. Preliminary\n",
    "This preliminary section will be ran in `python3`.\n",
    "\n",
    "Let's read `CAD_clean.csv` and convert to a `.txt` file ready to be munged"
   ]
  },
  {
   "cell_type": "code",
   "execution_count": 1,
   "metadata": {},
   "outputs": [],
   "source": [
    "import pandas as pd\n",
    "\n",
    "# Step 1: Read the CSV file\n",
    "df = pd.read_csv(\"CAD_clean.csv\")\n",
    "\n",
    "# Step 3: Select and reorder desired columns\n",
    "df_subset = pd.DataFrame({\n",
    "    \"SNP\": df[\"SNP\"],\n",
    "    \"A1\": df[\"A1\"],\n",
    "    \"A2\": df[\"A2\"],\n",
    "    \"P\": df[\"P\"],\n",
    "    \"Z\": df[\"Z\"],\n",
    "    \"MAF\": df[\"MAF\"]\n",
    "})\n",
    "\n",
    "# Step 4: Save as tab-delimited text file\n",
    "df_subset.to_csv(\"CAD_clean_munge.txt\", sep=\"\\t\", index=False)\n"
   ]
  },
  {
   "cell_type": "code",
   "execution_count": 2,
   "metadata": {},
   "outputs": [
    {
     "data": {
      "text/html": [
       "<div>\n",
       "<style scoped>\n",
       "    .dataframe tbody tr th:only-of-type {\n",
       "        vertical-align: middle;\n",
       "    }\n",
       "\n",
       "    .dataframe tbody tr th {\n",
       "        vertical-align: top;\n",
       "    }\n",
       "\n",
       "    .dataframe thead th {\n",
       "        text-align: right;\n",
       "    }\n",
       "</style>\n",
       "<table border=\"1\" class=\"dataframe\">\n",
       "  <thead>\n",
       "    <tr style=\"text-align: right;\">\n",
       "      <th></th>\n",
       "      <th>A1</th>\n",
       "      <th>A2</th>\n",
       "      <th>MAF</th>\n",
       "      <th>P</th>\n",
       "      <th>SNP</th>\n",
       "      <th>Z</th>\n",
       "    </tr>\n",
       "  </thead>\n",
       "  <tbody>\n",
       "    <tr>\n",
       "      <th>0</th>\n",
       "      <td>C</td>\n",
       "      <td>T</td>\n",
       "      <td>0.158264</td>\n",
       "      <td>0.452802</td>\n",
       "      <td>rs143225517</td>\n",
       "      <td>0.750750</td>\n",
       "    </tr>\n",
       "    <tr>\n",
       "      <th>1</th>\n",
       "      <td>A</td>\n",
       "      <td>G</td>\n",
       "      <td>0.763018</td>\n",
       "      <td>0.739460</td>\n",
       "      <td>rs3094315</td>\n",
       "      <td>-0.332568</td>\n",
       "    </tr>\n",
       "    <tr>\n",
       "      <th>2</th>\n",
       "      <td>G</td>\n",
       "      <td>A</td>\n",
       "      <td>0.740969</td>\n",
       "      <td>0.846265</td>\n",
       "      <td>rs3131972</td>\n",
       "      <td>-0.193885</td>\n",
       "    </tr>\n",
       "    <tr>\n",
       "      <th>3</th>\n",
       "      <td>C</td>\n",
       "      <td>T</td>\n",
       "      <td>0.744287</td>\n",
       "      <td>0.775066</td>\n",
       "      <td>rs3131971</td>\n",
       "      <td>0.285755</td>\n",
       "    </tr>\n",
       "    <tr>\n",
       "      <th>4</th>\n",
       "      <td>A</td>\n",
       "      <td>C</td>\n",
       "      <td>0.775368</td>\n",
       "      <td>0.706527</td>\n",
       "      <td>rs61770173</td>\n",
       "      <td>-0.376526</td>\n",
       "    </tr>\n",
       "  </tbody>\n",
       "</table>\n",
       "</div>"
      ],
      "text/plain": [
       "  A1 A2       MAF         P          SNP         Z\n",
       "0  C  T  0.158264  0.452802  rs143225517  0.750750\n",
       "1  A  G  0.763018  0.739460    rs3094315 -0.332568\n",
       "2  G  A  0.740969  0.846265    rs3131972 -0.193885\n",
       "3  C  T  0.744287  0.775066    rs3131971  0.285755\n",
       "4  A  C  0.775368  0.706527   rs61770173 -0.376526"
      ]
     },
     "execution_count": 2,
     "metadata": {},
     "output_type": "execute_result"
    }
   ],
   "source": [
    "df_subset.head()"
   ]
  },
  {
   "cell_type": "markdown",
   "metadata": {},
   "source": [
    "## 2. Munging for LDSC\n",
    "The rest of the notebook will be ran in `python2`."
   ]
  },
  {
   "cell_type": "code",
   "execution_count": 3,
   "metadata": {},
   "outputs": [
    {
     "name": "stdout",
     "output_type": "stream",
     "text": [
      "*********************************************************************\n",
      "* LD Score Regression (LDSC)\n",
      "* Version 1.0.1\n",
      "* (C) 2014-2019 Brendan Bulik-Sullivan and Hilary Finucane\n",
      "* Broad Institute of MIT and Harvard / MIT Department of Mathematics\n",
      "* GNU General Public License v3\n",
      "*********************************************************************\n",
      "Call: \n",
      "./munge_sumstats.py \\\n",
      "--signed-sumstats Z,0 \\\n",
      "--out .//munge_CAD \\\n",
      "--frq MAF \\\n",
      "--N 184305.0 \\\n",
      "--a1 A1 \\\n",
      "--a2 A2 \\\n",
      "--snp SNP \\\n",
      "--sumstats CAD_clean_munge.txt \\\n",
      "--p P \n",
      "\n",
      "Interpreting column names as follows:\n",
      "A1:\tAllele 1, interpreted as ref allele for signed sumstat.\n",
      "P:\tp-Value\n",
      "A2:\tAllele 2, interpreted as non-ref allele for signed sumstat.\n",
      "SNP:\tVariant ID (e.g., rs number)\n",
      "MAF:\tAllele frequency\n",
      "Z:\tDirectional summary statistic as specified by --signed-sumstats.\n",
      "\n",
      "Reading sumstats from CAD_clean_munge.txt into memory 5000000 SNPs at a time.\n",
      ".. done\n",
      "Read 9455778 SNPs from --sumstats file.\n",
      "Removed 0 SNPs with missing values.\n",
      "Removed 0 SNPs with INFO <= 0.9.\n",
      "Removed 240443 SNPs with MAF <= 0.01.\n",
      "Removed 0 SNPs with out-of-bounds p-values.\n",
      "Removed 2126606 variants that were not SNPs or were strand-ambiguous.\n",
      "7088729 SNPs remain.\n",
      "Removed 0 SNPs with duplicated rs numbers (7088729 SNPs remain).\n",
      "Using N = 184305.0\n",
      "Median value of SIGNED_SUMSTATS was -0.0164248562825, which seems sensible.\n",
      "Writing summary statistics for 7088729 SNPs (7088729 with nonmissing beta) to .//munge_CAD.sumstats.gz.\n",
      "\n",
      "Metadata:\n",
      "Mean chi^2 = 1.073\n",
      "Lambda GC = 1.007\n",
      "Max chi^2 = 443.1\n",
      "1841 Genome-wide significant SNPs (some may have been removed by filtering).\n",
      "\n",
      "Conversion finished at Thu Jul 17 09:25:07 2025\n",
      "Total time elapsed: 4.0m:46.01s\n"
     ]
    }
   ],
   "source": [
    "%%bash\n",
    "\n",
    "# Input parameters\n",
    "munge='/gpfs/gibbs/project/bdsi/shared/Genetics/ldsc/munge_sumstats.py' # Path to munge script\n",
    "gwas='CAD_clean_munge.txt' # Path to GWAS summary statistics\n",
    "path_out='./' # output path\n",
    "file_out='munge_CAD' # prefix of munged output\n",
    "## required columns\n",
    "snp='SNP' # rsID\n",
    "a1='A1' # effect allele\n",
    "a2='A2' # non-effect allele\n",
    "frq='MAF' # frequency of effect allele\n",
    "p='P' # p-value\n",
    "effect_size='Z' # effect sizes, can be either odds ratio or z statistic\n",
    "null_value=$([ \"$effect_size\" = \"OR\" ] && echo 1 || echo 0) # null value of the effect size\n",
    "## for optional column, if you don't have it, manually add sample size\n",
    "N=184305\n",
    "## Set threshold for quality control on minor allele frequency\n",
    "maf=0.01 # default\n",
    "\n",
    "# Run\n",
    "python ${munge} \\\n",
    "    --sumstats ${gwas} \\\n",
    "    --snp ${snp} \\\n",
    "    --a1 ${a1} \\\n",
    "    --a2 ${a2} \\\n",
    "    --frq ${frq} \\\n",
    "    --p ${p} \\\n",
    "    --N ${N} \\\n",
    "    --signed-sumstats ${effect_size},${null_value} \\\n",
    "    --maf-min ${maf} \\\n",
    "    --out ${path_out}/${file_out}"
   ]
  },
  {
   "cell_type": "markdown",
   "metadata": {},
   "source": [
    "### 2.1 Briefly view outputted munged file"
   ]
  },
  {
   "cell_type": "code",
   "execution_count": 2,
   "metadata": {},
   "outputs": [
    {
     "name": "stdout",
     "output_type": "stream",
     "text": [
      "SNP\tA1\tA2\tZ\tN\n",
      "rs143225517\tC\tT\t0.751\t184305.000\n",
      "rs3094315\tA\tG\t-0.333\t184305.000\n",
      "rs3131972\tG\tA\t-0.194\t184305.000\n",
      "rs3131971\tC\tT\t0.286\t184305.000\n",
      "rs61770173\tA\tC\t-0.377\t184305.000\n",
      "rs2073813\tA\tG\t0.346\t184305.000\n",
      "rs3131969\tG\tA\t-0.394\t184305.000\n",
      "rs3131968\tG\tA\t-0.410\t184305.000\n",
      "rs3131967\tC\tT\t-0.555\t184305.000\n"
     ]
    },
    {
     "name": "stderr",
     "output_type": "stream",
     "text": [
      "\n",
      "gzip: stdout: Broken pipe\n"
     ]
    }
   ],
   "source": [
    "%%bash\n",
    "zcat munge_CAD.sumstats.gz|head"
   ]
  },
  {
   "cell_type": "markdown",
   "metadata": {},
   "source": [
    "## 3. LDSC to calculate heritability"
   ]
  },
  {
   "cell_type": "code",
   "execution_count": 4,
   "metadata": {},
   "outputs": [
    {
     "name": "stdout",
     "output_type": "stream",
     "text": [
      "*********************************************************************\n",
      "* LD Score Regression (LDSC)\n",
      "* Version 1.0.1\n",
      "* (C) 2014-2019 Brendan Bulik-Sullivan and Hilary Finucane\n",
      "* Broad Institute of MIT and Harvard / MIT Department of Mathematics\n",
      "* GNU General Public License v3\n",
      "*********************************************************************\n",
      "Call: \n",
      "./ldsc.py \\\n",
      "--h2 munge_CAD.sumstats.gz \\\n",
      "--ref-ld-chr /gpfs/gibbs/project/bdsi/shared/Genetics/ldsc/LDscore/LDscore.@ \\\n",
      "--out ./ldsc_CAD \\\n",
      "--w-ld-chr /gpfs/gibbs/project/bdsi/shared/Genetics/ldsc/LDscore/LDscore.@ \n",
      "\n",
      "Beginning analysis at Thu Jul 17 09:25:30 2025\n",
      "Reading summary statistics from munge_CAD.sumstats.gz ...\n",
      "Read summary statistics for 7088729 SNPs.\n",
      "Reading reference panel LD Score from /gpfs/gibbs/project/bdsi/shared/Genetics/ldsc/LDscore/LDscore.[1-22] ... (ldscore_fromlist)\n",
      "Read reference panel LD Scores for 1190321 SNPs.\n",
      "Removing partitioned LD Scores with zero variance.\n",
      "Reading regression weight LD Score from /gpfs/gibbs/project/bdsi/shared/Genetics/ldsc/LDscore/LDscore.[1-22] ... (ldscore_fromlist)\n",
      "Read regression weight LD Scores for 1190321 SNPs.\n",
      "After merging with reference panel LD, 1180492 SNPs remain.\n",
      "After merging with regression SNP LD, 1180492 SNPs remain.\n",
      "Using two-step estimator with cutoff at 30.\n",
      "Total Observed scale h2: 0.0597 (0.0044)\n",
      "Lambda GC: 1.0466\n",
      "Mean Chi^2: 1.1249\n",
      "Intercept: 0.9114 (0.0079)\n",
      "Ratio < 0 (usually indicates GC correction).\n",
      "Analysis finished at Thu Jul 17 09:26:26 2025\n",
      "Total time elapsed: 55.04s\n"
     ]
    },
    {
     "name": "stderr",
     "output_type": "stream",
     "text": [
      "/gpfs/gibbs/project/bdsi/shared/Genetics/ldsc/ldscore/irwls.py:161: FutureWarning: `rcond` parameter will change to the default of machine precision times ``max(M, N)`` where M and N are the input matrix dimensions.\n",
      "To use the future default and silence this warning we advise to pass `rcond=None`, to keep using the old, explicitly pass `rcond=-1`.\n",
      "  coef = np.linalg.lstsq(x, y)\n"
     ]
    }
   ],
   "source": [
    "%%bash\n",
    "\n",
    "# Input parameters\n",
    "ldsc='/gpfs/gibbs/project/bdsi/shared/Genetics/ldsc/ldsc.py' # path to ldsc.py\n",
    "ldscore='/gpfs/gibbs/project/bdsi/shared/Genetics/ldsc/LDscore/' # folder for ldscores and correponding regression weights\n",
    "gwas='munge_CAD.sumstats.gz' # path to munged gwas summary statistics\n",
    "output_path='./' # directory of output files\n",
    "\n",
    "python ${ldsc} \\\n",
    "    --h2 ${gwas} \\\n",
    "    --ref-ld-chr ${ldscore}LDscore.@ \\\n",
    "    --w-ld-chr ${ldscore}LDscore.@ \\\n",
    "    --out ${output_path}ldsc_CAD"
   ]
  },
  {
   "cell_type": "code",
   "execution_count": null,
   "metadata": {},
   "outputs": [],
   "source": []
  }
 ],
 "metadata": {
  "kernelspec": {
   "display_name": "Python 2",
   "language": "python",
   "name": "python2"
  },
  "language_info": {
   "codemirror_mode": {
    "name": "ipython",
    "version": 2
   },
   "file_extension": ".py",
   "mimetype": "text/x-python",
   "name": "python",
   "nbconvert_exporter": "python",
   "pygments_lexer": "ipython2",
   "version": "2.7.17"
  }
 },
 "nbformat": 4,
 "nbformat_minor": 5
}
