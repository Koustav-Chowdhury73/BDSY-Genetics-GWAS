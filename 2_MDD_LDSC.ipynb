{
 "cells": [
  {
   "cell_type": "markdown",
   "metadata": {},
   "source": [
    "## Description\n",
    "There are three main parts:\n",
    "1. Preliminary processing for munging\n",
    "2. Munging for LDSC\n",
    "3. LDSC to calculate heritability"
   ]
  },
  {
   "cell_type": "markdown",
   "metadata": {},
   "source": [
    "## 1. Preliminary\n",
    "This preliminary section will be ran in `python3`.\n",
    "\n",
    "Let's read `MDD_clean.csv` and convert to a `.txt` file ready to be munged."
   ]
  },
  {
   "cell_type": "code",
   "execution_count": 1,
   "metadata": {},
   "outputs": [],
   "source": [
    "import pandas as pd\n",
    "\n",
    "# Step 1: Read the CSV file\n",
    "df = pd.read_csv(\"MDD_clean.csv\")\n",
    "\n",
    "# Step 2: Select and reorder desired columns\n",
    "df_subset = pd.DataFrame({\n",
    "    \"SNP\": df[\"SNP\"],\n",
    "    \"A1\": df[\"A1\"],\n",
    "    \"A2\": df[\"A2\"],\n",
    "    \"P\": df[\"P\"],\n",
    "    \"Z\": df[\"Z\"],\n",
    "    \"MAF\": df[\"MAF\"]\n",
    "})\n",
    "\n",
    "# Step 3: Save as tab-delimited text file\n",
    "df_subset.to_csv(\"MDD_clean_munge.txt\", sep=\"\\t\", index=False)\n"
   ]
  },
  {
   "cell_type": "code",
   "execution_count": 2,
   "metadata": {},
   "outputs": [
    {
     "data": {
      "text/html": [
       "<div>\n",
       "<style scoped>\n",
       "    .dataframe tbody tr th:only-of-type {\n",
       "        vertical-align: middle;\n",
       "    }\n",
       "\n",
       "    .dataframe tbody tr th {\n",
       "        vertical-align: top;\n",
       "    }\n",
       "\n",
       "    .dataframe thead th {\n",
       "        text-align: right;\n",
       "    }\n",
       "</style>\n",
       "<table border=\"1\" class=\"dataframe\">\n",
       "  <thead>\n",
       "    <tr style=\"text-align: right;\">\n",
       "      <th></th>\n",
       "      <th>A1</th>\n",
       "      <th>A2</th>\n",
       "      <th>MAF</th>\n",
       "      <th>P</th>\n",
       "      <th>SNP</th>\n",
       "      <th>Z</th>\n",
       "    </tr>\n",
       "  </thead>\n",
       "  <tbody>\n",
       "    <tr>\n",
       "      <th>0</th>\n",
       "      <td>A</td>\n",
       "      <td>G</td>\n",
       "      <td>0.843911</td>\n",
       "      <td>0.9284</td>\n",
       "      <td>rs12238997</td>\n",
       "      <td>-0.093505</td>\n",
       "    </tr>\n",
       "    <tr>\n",
       "      <th>1</th>\n",
       "      <td>C</td>\n",
       "      <td>G</td>\n",
       "      <td>0.193262</td>\n",
       "      <td>0.8311</td>\n",
       "      <td>rs4951859</td>\n",
       "      <td>-0.216722</td>\n",
       "    </tr>\n",
       "    <tr>\n",
       "      <th>2</th>\n",
       "      <td>T</td>\n",
       "      <td>C</td>\n",
       "      <td>0.944587</td>\n",
       "      <td>0.3532</td>\n",
       "      <td>rs148120343</td>\n",
       "      <td>-0.929571</td>\n",
       "    </tr>\n",
       "    <tr>\n",
       "      <th>3</th>\n",
       "      <td>T</td>\n",
       "      <td>C</td>\n",
       "      <td>0.836911</td>\n",
       "      <td>0.9760</td>\n",
       "      <td>rs142557973</td>\n",
       "      <td>0.029407</td>\n",
       "    </tr>\n",
       "    <tr>\n",
       "      <th>4</th>\n",
       "      <td>T</td>\n",
       "      <td>C</td>\n",
       "      <td>0.838911</td>\n",
       "      <td>0.9207</td>\n",
       "      <td>rs141242758</td>\n",
       "      <td>-0.098088</td>\n",
       "    </tr>\n",
       "  </tbody>\n",
       "</table>\n",
       "</div>"
      ],
      "text/plain": [
       "  A1 A2       MAF       P          SNP         Z\n",
       "0  A  G  0.843911  0.9284   rs12238997 -0.093505\n",
       "1  C  G  0.193262  0.8311    rs4951859 -0.216722\n",
       "2  T  C  0.944587  0.3532  rs148120343 -0.929571\n",
       "3  T  C  0.836911  0.9760  rs142557973  0.029407\n",
       "4  T  C  0.838911  0.9207  rs141242758 -0.098088"
      ]
     },
     "execution_count": 2,
     "metadata": {},
     "output_type": "execute_result"
    }
   ],
   "source": [
    "df_subset.head()"
   ]
  },
  {
   "cell_type": "markdown",
   "metadata": {},
   "source": [
    "## 2. Munging for LDSC\n",
    "The rest of the notebook will be ran in `python2`."
   ]
  },
  {
   "cell_type": "code",
   "execution_count": 3,
   "metadata": {},
   "outputs": [
    {
     "name": "stdout",
     "output_type": "stream",
     "text": [
      "*********************************************************************\n",
      "* LD Score Regression (LDSC)\n",
      "* Version 1.0.1\n",
      "* (C) 2014-2019 Brendan Bulik-Sullivan and Hilary Finucane\n",
      "* Broad Institute of MIT and Harvard / MIT Department of Mathematics\n",
      "* GNU General Public License v3\n",
      "*********************************************************************\n",
      "Call: \n",
      "./munge_sumstats.py \\\n",
      "--signed-sumstats Z,0 \\\n",
      "--out .//munge_MDD \\\n",
      "--frq MAF \\\n",
      "--N 674452.0 \\\n",
      "--a1 A1 \\\n",
      "--a2 A2 \\\n",
      "--snp SNP \\\n",
      "--sumstats MDD_clean_munge.txt \\\n",
      "--p P \n",
      "\n",
      "Interpreting column names as follows:\n",
      "A1:\tAllele 1, interpreted as ref allele for signed sumstat.\n",
      "P:\tp-Value\n",
      "A2:\tAllele 2, interpreted as non-ref allele for signed sumstat.\n",
      "SNP:\tVariant ID (e.g., rs number)\n",
      "MAF:\tAllele frequency\n",
      "Z:\tDirectional summary statistic as specified by --signed-sumstats.\n",
      "\n",
      "Reading sumstats from MDD_clean_munge.txt into memory 5000000 SNPs at a time.\n",
      ".. done\n",
      "Read 7266505 SNPs from --sumstats file.\n",
      "Removed 0 SNPs with missing values.\n",
      "Removed 0 SNPs with INFO <= 0.9.\n",
      "Removed 0 SNPs with MAF <= 0.01.\n",
      "Removed 0 SNPs with out-of-bounds p-values.\n",
      "Removed 1098198 variants that were not SNPs or were strand-ambiguous.\n",
      "6168307 SNPs remain.\n",
      "Removed 0 SNPs with duplicated rs numbers (6168307 SNPs remain).\n",
      "Using N = 674452.0\n",
      "Median value of SIGNED_SUMSTATS was -0.0232569768217, which seems sensible.\n",
      "Writing summary statistics for 6168307 SNPs (6168307 with nonmissing beta) to .//munge_MDD.sumstats.gz.\n",
      "\n",
      "Metadata:\n",
      "Mean chi^2 = 1.498\n",
      "Lambda GC = 1.386\n",
      "Max chi^2 = 56.338\n",
      "2840 Genome-wide significant SNPs (some may have been removed by filtering).\n",
      "\n",
      "Conversion finished at Thu Jul 17 09:27:59 2025\n",
      "Total time elapsed: 4.0m:3.78s\n"
     ]
    }
   ],
   "source": [
    "%%bash\n",
    "\n",
    "# Input parameters\n",
    "munge='/gpfs/gibbs/project/bdsi/shared/Genetics/ldsc/munge_sumstats.py' # Path to munge script\n",
    "gwas='MDD_clean_munge.txt' # Path to GWAS summary statistics\n",
    "path_out='./' # output path\n",
    "file_out='munge_MDD' # prefix of munged output\n",
    "## required columns\n",
    "snp='SNP' # rsID\n",
    "a1='A1' # effect allele\n",
    "a2='A2' # non-effect allele\n",
    "frq='MAF' # frequency of effect allele\n",
    "p='P' # p-value\n",
    "effect_size='Z' # effect sizes, can be either odds ratio or z statistic\n",
    "null_value=$([ \"$effect_size\" = \"OR\" ] && echo 1 || echo 0) # null value of the effect size\n",
    "## for optional column, if you don't have it, manually add sample size\n",
    "N=674452\n",
    "## Set threshold for quality control on minor allele frequency\n",
    "maf=0.01 # default\n",
    "\n",
    "# Run\n",
    "python ${munge} \\\n",
    "    --sumstats ${gwas} \\\n",
    "    --snp ${snp} \\\n",
    "    --a1 ${a1} \\\n",
    "    --a2 ${a2} \\\n",
    "    --frq ${frq} \\\n",
    "    --p ${p} \\\n",
    "    --N ${N} \\\n",
    "    --signed-sumstats ${effect_size},${null_value} \\\n",
    "    --maf-min ${maf} \\\n",
    "    --out ${path_out}/${file_out}"
   ]
  },
  {
   "cell_type": "markdown",
   "metadata": {},
   "source": [
    "### 2.1 Briefly view outputted munged file"
   ]
  },
  {
   "cell_type": "code",
   "execution_count": 2,
   "metadata": {},
   "outputs": [
    {
     "name": "stdout",
     "output_type": "stream",
     "text": [
      "SNP\tA1\tA2\tZ\tN\n",
      "rs12238997\tA\tG\t-0.090\t674452.000\n",
      "rs148120343\tT\tC\t-0.928\t674452.000\n",
      "rs142557973\tT\tC\t0.030\t674452.000\n",
      "rs141242758\tT\tC\t-0.100\t674452.000\n",
      "rs3094315\tG\tA\t-0.379\t674452.000\n",
      "rs3131972\tA\tG\t-0.375\t674452.000\n",
      "rs3115860\tC\tA\t0.635\t674452.000\n",
      "rs2073813\tG\tA\t0.376\t674452.000\n",
      "rs3131969\tA\tG\t-0.417\t674452.000\n"
     ]
    },
    {
     "name": "stderr",
     "output_type": "stream",
     "text": [
      "\n",
      "gzip: stdout: Broken pipe\n"
     ]
    }
   ],
   "source": [
    "%%bash\n",
    "zcat munge_MDD.sumstats.gz|head"
   ]
  },
  {
   "cell_type": "markdown",
   "metadata": {},
   "source": [
    "## 3. LDSC to calculate heritability"
   ]
  },
  {
   "cell_type": "code",
   "execution_count": 4,
   "metadata": {},
   "outputs": [
    {
     "name": "stdout",
     "output_type": "stream",
     "text": [
      "*********************************************************************\n",
      "* LD Score Regression (LDSC)\n",
      "* Version 1.0.1\n",
      "* (C) 2014-2019 Brendan Bulik-Sullivan and Hilary Finucane\n",
      "* Broad Institute of MIT and Harvard / MIT Department of Mathematics\n",
      "* GNU General Public License v3\n",
      "*********************************************************************\n",
      "Call: \n",
      "./ldsc.py \\\n",
      "--h2 munge_MDD.sumstats.gz \\\n",
      "--ref-ld-chr /gpfs/gibbs/project/bdsi/shared/Genetics/ldsc/LDscore/LDscore.@ \\\n",
      "--out ./ldsc_MDD \\\n",
      "--w-ld-chr /gpfs/gibbs/project/bdsi/shared/Genetics/ldsc/LDscore/LDscore.@ \n",
      "\n",
      "Beginning analysis at Thu Jul 17 09:28:00 2025\n",
      "Reading summary statistics from munge_MDD.sumstats.gz ...\n",
      "Read summary statistics for 6168307 SNPs.\n",
      "Reading reference panel LD Score from /gpfs/gibbs/project/bdsi/shared/Genetics/ldsc/LDscore/LDscore.[1-22] ... (ldscore_fromlist)\n",
      "Read reference panel LD Scores for 1190321 SNPs.\n",
      "Removing partitioned LD Scores with zero variance.\n",
      "Reading regression weight LD Score from /gpfs/gibbs/project/bdsi/shared/Genetics/ldsc/LDscore/LDscore.[1-22] ... (ldscore_fromlist)\n",
      "Read regression weight LD Scores for 1190321 SNPs.\n",
      "After merging with reference panel LD, 1166236 SNPs remain.\n",
      "After merging with regression SNP LD, 1166236 SNPs remain.\n",
      "Using two-step estimator with cutoff at 30.\n",
      "Total Observed scale h2: 0.0366 (0.0018)\n",
      "Lambda GC: 1.4423\n",
      "Mean Chi^2: 1.5679\n",
      "Intercept: 1.0779 (0.0113)\n",
      "Ratio: 0.1371 (0.0199)\n",
      "Analysis finished at Thu Jul 17 09:28:20 2025\n",
      "Total time elapsed: 20.54s\n"
     ]
    },
    {
     "name": "stderr",
     "output_type": "stream",
     "text": [
      "/gpfs/gibbs/project/bdsi/shared/Genetics/ldsc/ldscore/irwls.py:161: FutureWarning: `rcond` parameter will change to the default of machine precision times ``max(M, N)`` where M and N are the input matrix dimensions.\n",
      "To use the future default and silence this warning we advise to pass `rcond=None`, to keep using the old, explicitly pass `rcond=-1`.\n",
      "  coef = np.linalg.lstsq(x, y)\n"
     ]
    }
   ],
   "source": [
    "%%bash\n",
    "\n",
    "# Input parameters\n",
    "ldsc='/gpfs/gibbs/project/bdsi/shared/Genetics/ldsc/ldsc.py' # path to ldsc.py\n",
    "ldscore='/gpfs/gibbs/project/bdsi/shared/Genetics/ldsc/LDscore/' # folder for ldscores and correponding regression weights\n",
    "gwas='munge_MDD.sumstats.gz' # path to munged gwas summary statistics\n",
    "output_path='./' # directory of output files\n",
    "\n",
    "python ${ldsc} \\\n",
    "    --h2 ${gwas} \\\n",
    "    --ref-ld-chr ${ldscore}LDscore.@ \\\n",
    "    --w-ld-chr ${ldscore}LDscore.@ \\\n",
    "    --out ${output_path}ldsc_MDD"
   ]
  },
  {
   "cell_type": "code",
   "execution_count": null,
   "metadata": {},
   "outputs": [],
   "source": []
  }
 ],
 "metadata": {
  "kernelspec": {
   "display_name": "Python 2",
   "language": "python",
   "name": "python2"
  },
  "language_info": {
   "codemirror_mode": {
    "name": "ipython",
    "version": 2
   },
   "file_extension": ".py",
   "mimetype": "text/x-python",
   "name": "python",
   "nbconvert_exporter": "python",
   "pygments_lexer": "ipython2",
   "version": "2.7.17"
  }
 },
 "nbformat": 4,
 "nbformat_minor": 5
}
