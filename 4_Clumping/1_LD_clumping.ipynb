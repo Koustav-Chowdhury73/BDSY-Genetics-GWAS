{
 "cells": [
  {
   "cell_type": "markdown",
   "id": "84c693f0-bfa2-4b65-b644-4b7f3ac76857",
   "metadata": {},
   "source": [
    "## Description\n",
    "1. Subset to desired dataframes\n",
    "2. LD clumping via PLINK\n",
    "3. Take the union of the SNPs"
   ]
  },
  {
   "cell_type": "code",
   "execution_count": 9,
   "id": "96384815-f577-449f-91bc-ff4a5942b770",
   "metadata": {},
   "outputs": [],
   "source": [
    "import pandas as pd\n",
    "import numpy as np"
   ]
  },
  {
   "cell_type": "code",
   "execution_count": 10,
   "id": "4bffe313-ac2a-42c5-80a1-18a7dbf25e35",
   "metadata": {},
   "outputs": [],
   "source": [
    "df1 = pd.read_csv(\"../1_CAD/CAD_clean.csv\")\n",
    "\n",
    "# Step 3: Select and reorder desired columns\n",
    "df1_subset = pd.DataFrame({\n",
    "    \"SNP\": df1[\"SNP\"],\n",
    "    \"CHR\": df1[\"CHR\"],\n",
    "    \"BP\": df1[\"BP\"],\n",
    "    \"P\": df1[\"P\"]\n",
    "})\n",
    "\n",
    "df1_subset.to_csv(\"CAD_clean_clump.txt\", sep=\"\\t\", index=False)"
   ]
  },
  {
   "cell_type": "code",
   "execution_count": 11,
   "id": "145f26b8-c785-4fa6-800a-e50a60397352",
   "metadata": {},
   "outputs": [
    {
     "data": {
      "text/html": [
       "<div>\n",
       "<style scoped>\n",
       "    .dataframe tbody tr th:only-of-type {\n",
       "        vertical-align: middle;\n",
       "    }\n",
       "\n",
       "    .dataframe tbody tr th {\n",
       "        vertical-align: top;\n",
       "    }\n",
       "\n",
       "    .dataframe thead th {\n",
       "        text-align: right;\n",
       "    }\n",
       "</style>\n",
       "<table border=\"1\" class=\"dataframe\">\n",
       "  <thead>\n",
       "    <tr style=\"text-align: right;\">\n",
       "      <th></th>\n",
       "      <th>SNP</th>\n",
       "      <th>CHR</th>\n",
       "      <th>BP</th>\n",
       "      <th>P</th>\n",
       "    </tr>\n",
       "  </thead>\n",
       "  <tbody>\n",
       "    <tr>\n",
       "      <th>0</th>\n",
       "      <td>rs143225517</td>\n",
       "      <td>1</td>\n",
       "      <td>751756</td>\n",
       "      <td>0.452802</td>\n",
       "    </tr>\n",
       "    <tr>\n",
       "      <th>1</th>\n",
       "      <td>rs3094315</td>\n",
       "      <td>1</td>\n",
       "      <td>752566</td>\n",
       "      <td>0.739460</td>\n",
       "    </tr>\n",
       "    <tr>\n",
       "      <th>2</th>\n",
       "      <td>rs3131972</td>\n",
       "      <td>1</td>\n",
       "      <td>752721</td>\n",
       "      <td>0.846265</td>\n",
       "    </tr>\n",
       "    <tr>\n",
       "      <th>3</th>\n",
       "      <td>rs3131971</td>\n",
       "      <td>1</td>\n",
       "      <td>752894</td>\n",
       "      <td>0.775066</td>\n",
       "    </tr>\n",
       "    <tr>\n",
       "      <th>4</th>\n",
       "      <td>rs61770173</td>\n",
       "      <td>1</td>\n",
       "      <td>753405</td>\n",
       "      <td>0.706526</td>\n",
       "    </tr>\n",
       "  </tbody>\n",
       "</table>\n",
       "</div>"
      ],
      "text/plain": [
       "           SNP  CHR      BP         P\n",
       "0  rs143225517    1  751756  0.452802\n",
       "1    rs3094315    1  752566  0.739460\n",
       "2    rs3131972    1  752721  0.846265\n",
       "3    rs3131971    1  752894  0.775066\n",
       "4   rs61770173    1  753405  0.706526"
      ]
     },
     "execution_count": 11,
     "metadata": {},
     "output_type": "execute_result"
    }
   ],
   "source": [
    "df1_subset.head()"
   ]
  },
  {
   "cell_type": "code",
   "execution_count": 12,
   "id": "1718dd92-87ba-4aab-8b1e-ae69615c9b58",
   "metadata": {},
   "outputs": [],
   "source": [
    "df2 = pd.read_csv(\"../2_MDD/MDD_clean.csv\")\n",
    "\n",
    "# Step 3: Select and reorder desired columns\n",
    "df2_subset = pd.DataFrame({\n",
    "    \"SNP\": df2[\"SNP\"],\n",
    "    \"CHR\": df2[\"CHR\"],\n",
    "    \"BP\": df2[\"BP\"],\n",
    "    \"P\": df2[\"P\"]\n",
    "})\n",
    "\n",
    "df2_subset.to_csv(\"MDD_clean_clump.txt\", sep=\"\\t\", index=False)"
   ]
  },
  {
   "cell_type": "code",
   "execution_count": 13,
   "id": "96883216-f9d4-47bc-9eb1-ff22ca1c3bd8",
   "metadata": {},
   "outputs": [
    {
     "data": {
      "text/html": [
       "<div>\n",
       "<style scoped>\n",
       "    .dataframe tbody tr th:only-of-type {\n",
       "        vertical-align: middle;\n",
       "    }\n",
       "\n",
       "    .dataframe tbody tr th {\n",
       "        vertical-align: top;\n",
       "    }\n",
       "\n",
       "    .dataframe thead th {\n",
       "        text-align: right;\n",
       "    }\n",
       "</style>\n",
       "<table border=\"1\" class=\"dataframe\">\n",
       "  <thead>\n",
       "    <tr style=\"text-align: right;\">\n",
       "      <th></th>\n",
       "      <th>SNP</th>\n",
       "      <th>CHR</th>\n",
       "      <th>BP</th>\n",
       "      <th>P</th>\n",
       "    </tr>\n",
       "  </thead>\n",
       "  <tbody>\n",
       "    <tr>\n",
       "      <th>0</th>\n",
       "      <td>rs12238997</td>\n",
       "      <td>1</td>\n",
       "      <td>693731</td>\n",
       "      <td>0.9284</td>\n",
       "    </tr>\n",
       "    <tr>\n",
       "      <th>1</th>\n",
       "      <td>rs4951859</td>\n",
       "      <td>1</td>\n",
       "      <td>729679</td>\n",
       "      <td>0.8311</td>\n",
       "    </tr>\n",
       "    <tr>\n",
       "      <th>2</th>\n",
       "      <td>rs148120343</td>\n",
       "      <td>1</td>\n",
       "      <td>730087</td>\n",
       "      <td>0.3532</td>\n",
       "    </tr>\n",
       "    <tr>\n",
       "      <th>3</th>\n",
       "      <td>rs142557973</td>\n",
       "      <td>1</td>\n",
       "      <td>731718</td>\n",
       "      <td>0.9760</td>\n",
       "    </tr>\n",
       "    <tr>\n",
       "      <th>4</th>\n",
       "      <td>rs141242758</td>\n",
       "      <td>1</td>\n",
       "      <td>734349</td>\n",
       "      <td>0.9207</td>\n",
       "    </tr>\n",
       "  </tbody>\n",
       "</table>\n",
       "</div>"
      ],
      "text/plain": [
       "           SNP  CHR      BP       P\n",
       "0   rs12238997    1  693731  0.9284\n",
       "1    rs4951859    1  729679  0.8311\n",
       "2  rs148120343    1  730087  0.3532\n",
       "3  rs142557973    1  731718  0.9760\n",
       "4  rs141242758    1  734349  0.9207"
      ]
     },
     "execution_count": 13,
     "metadata": {},
     "output_type": "execute_result"
    }
   ],
   "source": [
    "df2_subset.head()"
   ]
  },
  {
   "cell_type": "markdown",
   "id": "8814f4d2-81e7-4734-b0fd-6bedd82032ba",
   "metadata": {},
   "source": [
    "## PLINK"
   ]
  },
  {
   "cell_type": "code",
   "execution_count": 14,
   "id": "24ac9baa-5e8b-433b-8c4c-6f778fbef31e",
   "metadata": {},
   "outputs": [
    {
     "name": "stdout",
     "output_type": "stream",
     "text": [
      "PLINK v1.90b6.21 64-bit (19 Oct 2020)          www.cog-genomics.org/plink/1.9/\n",
      "(C) 2005-2020 Shaun Purcell, Christopher Chang   GNU General Public License v3\n",
      "Logging to ./results/CAD_clumped_results.log.\n",
      "Options in effect:\n",
      "  --bfile /gpfs/gibbs/project/bdsi/shared/Genetics/data/sim_data/geno_data/EUR\n",
      "  --clump CAD_clean_clump.txt\n",
      "  --clump-kb 250\n",
      "  --clump-p1 1e-05\n",
      "  --clump-p2 1\n",
      "  --clump-r2 0.1\n",
      "  --out ./results/CAD_clumped_results\n",
      "\n",
      "515691 MB RAM detected; reserving 257845 MB for main workspace.\n",
      "1175356 variants loaded from .bim file.\n",
      "10000 people (0 males, 0 females, 10000 ambiguous) loaded from .fam.\n",
      "Ambiguous sex IDs written to ./results/CAD_clumped_results.nosex .\n",
      "Using 1 thread (no multithreaded calculations invoked).\n",
      "Before main variant filters, 10000 founders and 0 nonfounders present.\n",
      "Calculating allele frequencies... 10111213141516171819202122232425262728293031323334353637383940414243444546474849505152535455565758596061626364656667686970717273747576777879808182838485868788899091929394959697989 done.\n",
      "1175356 variants and 10000 people pass filters and QC.\n",
      "Note: No phenotypes present.\n"
     ]
    },
    {
     "name": "stderr",
     "output_type": "stream",
     "text": [
      "Warning: 'rs10738610' is missing from the main dataset, and is a top variant.\n",
      "Warning: 'rs10757275' is missing from the main dataset, and is a top variant.\n",
      "Warning: 'rs1333046' is missing from the main dataset, and is a top variant.\n",
      "4871 more top variant IDs missing; see log file.\n"
     ]
    },
    {
     "name": "stdout",
     "output_type": "stream",
     "text": [
      "--clump: 136 clumps formed from 969 top variants.\n",
      "Results written to ./results/CAD_clumped_results.clumped .\n"
     ]
    }
   ],
   "source": [
    "%%bash\n",
    "\n",
    "module load PLINK/1\n",
    "\n",
    "plink --bfile '/gpfs/gibbs/project/bdsi/shared/Genetics/data/sim_data/geno_data/EUR' \\\n",
    "      --clump CAD_clean_clump.txt \\\n",
    "      --clump-p1 1e-05 \\\n",
    "      --clump-p2 1 \\\n",
    "      --clump-r2 0.1 \\\n",
    "      --clump-kb 250 \\\n",
    "      --out ./results/CAD_clumped_results"
   ]
  },
  {
   "cell_type": "code",
   "execution_count": 15,
   "id": "7cee22f1-a82f-4359-a75f-1f2059486c1e",
   "metadata": {},
   "outputs": [
    {
     "name": "stdout",
     "output_type": "stream",
     "text": [
      "PLINK v1.90b6.21 64-bit (19 Oct 2020)          www.cog-genomics.org/plink/1.9/\n",
      "(C) 2005-2020 Shaun Purcell, Christopher Chang   GNU General Public License v3\n",
      "Logging to ./results/MDD_clumped_results.log.\n",
      "Options in effect:\n",
      "  --bfile /gpfs/gibbs/project/bdsi/shared/Genetics/data/sim_data/geno_data/EUR\n",
      "  --clump MDD_clean_clump.txt\n",
      "  --clump-kb 250\n",
      "  --clump-p1 1e-05\n",
      "  --clump-p2 1\n",
      "  --clump-r2 0.1\n",
      "  --out ./results/MDD_clumped_results\n",
      "\n",
      "515691 MB RAM detected; reserving 257845 MB for main workspace.\n",
      "1175356 variants loaded from .bim file.\n",
      "10000 people (0 males, 0 females, 10000 ambiguous) loaded from .fam.\n",
      "Ambiguous sex IDs written to ./results/MDD_clumped_results.nosex .\n",
      "Using 1 thread (no multithreaded calculations invoked).\n",
      "Before main variant filters, 10000 founders and 0 nonfounders present.\n",
      "Calculating allele frequencies... 10111213141516171819202122232425262728293031323334353637383940414243444546474849505152535455565758596061626364656667686970717273747576777879808182838485868788899091929394959697989 done.\n",
      "1175356 variants and 10000 people pass filters and QC.\n",
      "Note: No phenotypes present.\n"
     ]
    },
    {
     "name": "stderr",
     "output_type": "stream",
     "text": [
      "Warning: 'rs11756123' is missing from the main dataset, and is a top variant.\n",
      "Warning: 'rs9479138' is missing from the main dataset, and is a top variant.\n",
      "Warning: 'rs11155821' is missing from the main dataset, and is a top variant.\n",
      "10212 more top variant IDs missing; see log file.\n"
     ]
    },
    {
     "name": "stdout",
     "output_type": "stream",
     "text": [
      "--clump: 261 clumps formed from 2338 top variants.\n",
      "Results written to ./results/MDD_clumped_results.clumped .\n"
     ]
    }
   ],
   "source": [
    "%%bash\n",
    "\n",
    "module load PLINK/1\n",
    "\n",
    "plink --bfile '/gpfs/gibbs/project/bdsi/shared/Genetics/data/sim_data/geno_data/EUR' \\\n",
    "      --clump MDD_clean_clump.txt \\\n",
    "      --clump-p1 1e-05 \\\n",
    "      --clump-p2 1 \\\n",
    "      --clump-r2 0.1 \\\n",
    "      --clump-kb 250 \\\n",
    "      --out ./results/MDD_clumped_results\n"
   ]
  },
  {
   "cell_type": "code",
   "execution_count": 16,
   "id": "e8fa4bd7-8013-404a-a9ac-dfe9f5a13480",
   "metadata": {},
   "outputs": [],
   "source": [
    "## CAD & MDD\n",
    "\n",
    "# Step 1: Load the clumped results file\n",
    "df1_lead_snps = pd.read_csv(\"./results/CAD_clumped_results.clumped\", delim_whitespace=True)\n",
    "df2_lead_snps = pd.read_csv(\"./results/MDD_clumped_results.clumped\", delim_whitespace=True)\n",
    "\n",
    "# Step 2: Extract SNP list as a Python list\n",
    "lead_snp_list1 = df1_lead_snps[\"SNP\"].tolist()\n",
    "lead_snp_list2 = df2_lead_snps[\"SNP\"].tolist()\n",
    "\n",
    "# Step 3: Take the union of both lists\n",
    "union_snps = list(set(lead_snp_list1).union(set(lead_snp_list2)))\n",
    "\n",
    "# Step 4: Save the union of SNPs to a CSV file\n",
    "pd.DataFrame({'SNP': union_snps}).to_csv(\"union_lead_snps.csv\", index=False)"
   ]
  },
  {
   "cell_type": "code",
   "execution_count": 19,
   "id": "dd006474-9fe6-4194-854e-ea6d37cf9431",
   "metadata": {},
   "outputs": [
    {
     "data": {
      "text/plain": [
       "396"
      ]
     },
     "execution_count": 19,
     "metadata": {},
     "output_type": "execute_result"
    }
   ],
   "source": [
    "len(union_snps)"
   ]
  }
 ],
 "metadata": {
  "kernelspec": {
   "display_name": "Python 3 (ipykernel)",
   "language": "python",
   "name": "python3"
  },
  "language_info": {
   "codemirror_mode": {
    "name": "ipython",
    "version": 3
   },
   "file_extension": ".py",
   "mimetype": "text/x-python",
   "name": "python",
   "nbconvert_exporter": "python",
   "pygments_lexer": "ipython3",
   "version": "3.11.4"
  }
 },
 "nbformat": 4,
 "nbformat_minor": 5
}
