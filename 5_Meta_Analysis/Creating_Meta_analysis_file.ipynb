{
 "cells": [
  {
   "cell_type": "markdown",
   "metadata": {},
   "source": [
    "# Meta Analysis for GWAS summary statistics\n",
    "\n",
    "By Malia Schomaker"
   ]
  },
  {
   "cell_type": "markdown",
   "metadata": {},
   "source": [
    "## Importing and Cleaning the Data"
   ]
  },
  {
   "cell_type": "code",
   "execution_count": 36,
   "metadata": {
    "scrolled": true
   },
   "outputs": [
    {
     "name": "stdout",
     "output_type": "stream",
     "text": [
      "[1] \"packages done\"\n",
      "[1] \"data read\"\n"
     ]
    }
   ],
   "source": [
    "########libraries\n",
    "\n",
    "# install package if you have not\n",
    "for (package in c(\"tidyverse\", \"metafor\", \"data.table\", \"tidyr\", \"dplyr\")) {\n",
    "  if (package %in% rownames(installed.packages())) {\n",
    "    library(package, character.only = TRUE)\n",
    "  } else {\n",
    "    cat(package, \"package is not installed.\\n\")\n",
    "    install.packages(package)\n",
    "    library(package, character.only = TRUE)\n",
    "  }\n",
    "}\n",
    "print(\"packages done\")\n",
    "\n",
    "####### import data\n",
    "SNP_data <- read.csv(\"/gpfs/gibbs/project/bdsi/bdsi_kc2587/lo/new/4_LD_clumping/union_lead_snps.csv\", header = TRUE) # sigfig SNPs form LD clumping\n",
    "og_CAD <- read.csv(\"/gpfs/gibbs/project/bdsi/bdsi_kc2587/lo/new/1_CAD/CAD_clean.csv\", header=TRUE) # full, cleaned CAD GWAS summary\n",
    "og_MDD <- read.csv(\"/gpfs/gibbs/project/bdsi/bdsi_kc2587/lo/new/2_MDD/MDD_clean.csv\", header=TRUE)# full, cleaned MDD GWAS summary\n",
    "\n",
    "print(\"data read\")"
   ]
  },
  {
   "cell_type": "markdown",
   "metadata": {},
   "source": [
    "### Pulling the SNPs identified by LD Clumping from the Full dataset"
   ]
  },
  {
   "cell_type": "code",
   "execution_count": 37,
   "metadata": {},
   "outputs": [
    {
     "data": {
      "text/html": [
       "<table class=\"dataframe\">\n",
       "<caption>A data.frame: 6 × 5</caption>\n",
       "<thead>\n",
       "\t<tr><th></th><th scope=col>SNP</th><th scope=col>CHR</th><th scope=col>BP</th><th scope=col>BETA.CAD</th><th scope=col>SE.CAD</th></tr>\n",
       "\t<tr><th></th><th scope=col>&lt;chr&gt;</th><th scope=col>&lt;int&gt;</th><th scope=col>&lt;int&gt;</th><th scope=col>&lt;dbl&gt;</th><th scope=col>&lt;dbl&gt;</th></tr>\n",
       "</thead>\n",
       "<tbody>\n",
       "\t<tr><th scope=row>1</th><td>rs2412546 </td><td>15</td><td> 41006523</td><td> 0.000549</td><td>0.0093854</td></tr>\n",
       "\t<tr><th scope=row>2</th><td>rs17613838</td><td>11</td><td>113638177</td><td> 0.016465</td><td>0.0130940</td></tr>\n",
       "\t<tr><th scope=row>3</th><td>rs2552527 </td><td> 2</td><td>218688596</td><td> 0.051188</td><td>0.0096983</td></tr>\n",
       "\t<tr><th scope=row>4</th><td>rs9851130 </td><td> 3</td><td> 54435589</td><td> 0.006110</td><td>0.0105858</td></tr>\n",
       "\t<tr><th scope=row>5</th><td>rs1975488 </td><td> 4</td><td> 90984432</td><td> 0.007721</td><td>0.0097244</td></tr>\n",
       "\t<tr><th scope=row>6</th><td>rs10744777</td><td>12</td><td>112233018</td><td>-0.045736</td><td>0.0102545</td></tr>\n",
       "</tbody>\n",
       "</table>\n"
      ],
      "text/latex": [
       "A data.frame: 6 × 5\n",
       "\\begin{tabular}{r|lllll}\n",
       "  & SNP & CHR & BP & BETA.CAD & SE.CAD\\\\\n",
       "  & <chr> & <int> & <int> & <dbl> & <dbl>\\\\\n",
       "\\hline\n",
       "\t1 & rs2412546  & 15 &  41006523 &  0.000549 & 0.0093854\\\\\n",
       "\t2 & rs17613838 & 11 & 113638177 &  0.016465 & 0.0130940\\\\\n",
       "\t3 & rs2552527  &  2 & 218688596 &  0.051188 & 0.0096983\\\\\n",
       "\t4 & rs9851130  &  3 &  54435589 &  0.006110 & 0.0105858\\\\\n",
       "\t5 & rs1975488  &  4 &  90984432 &  0.007721 & 0.0097244\\\\\n",
       "\t6 & rs10744777 & 12 & 112233018 & -0.045736 & 0.0102545\\\\\n",
       "\\end{tabular}\n"
      ],
      "text/markdown": [
       "\n",
       "A data.frame: 6 × 5\n",
       "\n",
       "| <!--/--> | SNP &lt;chr&gt; | CHR &lt;int&gt; | BP &lt;int&gt; | BETA.CAD &lt;dbl&gt; | SE.CAD &lt;dbl&gt; |\n",
       "|---|---|---|---|---|---|\n",
       "| 1 | rs2412546  | 15 |  41006523 |  0.000549 | 0.0093854 |\n",
       "| 2 | rs17613838 | 11 | 113638177 |  0.016465 | 0.0130940 |\n",
       "| 3 | rs2552527  |  2 | 218688596 |  0.051188 | 0.0096983 |\n",
       "| 4 | rs9851130  |  3 |  54435589 |  0.006110 | 0.0105858 |\n",
       "| 5 | rs1975488  |  4 |  90984432 |  0.007721 | 0.0097244 |\n",
       "| 6 | rs10744777 | 12 | 112233018 | -0.045736 | 0.0102545 |\n",
       "\n"
      ],
      "text/plain": [
       "  SNP        CHR BP        BETA.CAD  SE.CAD   \n",
       "1 rs2412546  15   41006523  0.000549 0.0093854\n",
       "2 rs17613838 11  113638177  0.016465 0.0130940\n",
       "3 rs2552527   2  218688596  0.051188 0.0096983\n",
       "4 rs9851130   3   54435589  0.006110 0.0105858\n",
       "5 rs1975488   4   90984432  0.007721 0.0097244\n",
       "6 rs10744777 12  112233018 -0.045736 0.0102545"
      ]
     },
     "metadata": {},
     "output_type": "display_data"
    },
    {
     "data": {
      "text/html": [
       "396"
      ],
      "text/latex": [
       "396"
      ],
      "text/markdown": [
       "396"
      ],
      "text/plain": [
       "[1] 396"
      ]
     },
     "metadata": {},
     "output_type": "display_data"
    },
    {
     "data": {
      "text/html": [
       "<table class=\"dataframe\">\n",
       "<caption>A data.frame: 6 × 5</caption>\n",
       "<thead>\n",
       "\t<tr><th></th><th scope=col>SNP</th><th scope=col>CHR</th><th scope=col>BP</th><th scope=col>BETA.MDD</th><th scope=col>SE.MDD</th></tr>\n",
       "\t<tr><th></th><th scope=col>&lt;chr&gt;</th><th scope=col>&lt;int&gt;</th><th scope=col>&lt;int&gt;</th><th scope=col>&lt;dbl&gt;</th><th scope=col>&lt;dbl&gt;</th></tr>\n",
       "</thead>\n",
       "<tbody>\n",
       "\t<tr><th scope=row>1</th><td>rs2412546 </td><td>15</td><td> 41006523</td><td>-0.0226026252</td><td>0.0044</td></tr>\n",
       "\t<tr><th scope=row>2</th><td>rs17613838</td><td>11</td><td>113638177</td><td>-0.0285949669</td><td>0.0056</td></tr>\n",
       "\t<tr><th scope=row>3</th><td>rs2552527 </td><td> 2</td><td>218688596</td><td>-0.0009004052</td><td>0.0043</td></tr>\n",
       "\t<tr><th scope=row>4</th><td>rs9851130 </td><td> 3</td><td> 54435589</td><td> 0.0281014301</td><td>0.0049</td></tr>\n",
       "\t<tr><th scope=row>5</th><td>rs1975488 </td><td> 4</td><td> 90984432</td><td> 0.0209989426</td><td>0.0044</td></tr>\n",
       "\t<tr><th scope=row>6</th><td>rs10744777</td><td>12</td><td>112233018</td><td> 0.0060985585</td><td>0.0048</td></tr>\n",
       "</tbody>\n",
       "</table>\n"
      ],
      "text/latex": [
       "A data.frame: 6 × 5\n",
       "\\begin{tabular}{r|lllll}\n",
       "  & SNP & CHR & BP & BETA.MDD & SE.MDD\\\\\n",
       "  & <chr> & <int> & <int> & <dbl> & <dbl>\\\\\n",
       "\\hline\n",
       "\t1 & rs2412546  & 15 &  41006523 & -0.0226026252 & 0.0044\\\\\n",
       "\t2 & rs17613838 & 11 & 113638177 & -0.0285949669 & 0.0056\\\\\n",
       "\t3 & rs2552527  &  2 & 218688596 & -0.0009004052 & 0.0043\\\\\n",
       "\t4 & rs9851130  &  3 &  54435589 &  0.0281014301 & 0.0049\\\\\n",
       "\t5 & rs1975488  &  4 &  90984432 &  0.0209989426 & 0.0044\\\\\n",
       "\t6 & rs10744777 & 12 & 112233018 &  0.0060985585 & 0.0048\\\\\n",
       "\\end{tabular}\n"
      ],
      "text/markdown": [
       "\n",
       "A data.frame: 6 × 5\n",
       "\n",
       "| <!--/--> | SNP &lt;chr&gt; | CHR &lt;int&gt; | BP &lt;int&gt; | BETA.MDD &lt;dbl&gt; | SE.MDD &lt;dbl&gt; |\n",
       "|---|---|---|---|---|---|\n",
       "| 1 | rs2412546  | 15 |  41006523 | -0.0226026252 | 0.0044 |\n",
       "| 2 | rs17613838 | 11 | 113638177 | -0.0285949669 | 0.0056 |\n",
       "| 3 | rs2552527  |  2 | 218688596 | -0.0009004052 | 0.0043 |\n",
       "| 4 | rs9851130  |  3 |  54435589 |  0.0281014301 | 0.0049 |\n",
       "| 5 | rs1975488  |  4 |  90984432 |  0.0209989426 | 0.0044 |\n",
       "| 6 | rs10744777 | 12 | 112233018 |  0.0060985585 | 0.0048 |\n",
       "\n"
      ],
      "text/plain": [
       "  SNP        CHR BP        BETA.MDD      SE.MDD\n",
       "1 rs2412546  15   41006523 -0.0226026252 0.0044\n",
       "2 rs17613838 11  113638177 -0.0285949669 0.0056\n",
       "3 rs2552527   2  218688596 -0.0009004052 0.0043\n",
       "4 rs9851130   3   54435589  0.0281014301 0.0049\n",
       "5 rs1975488   4   90984432  0.0209989426 0.0044\n",
       "6 rs10744777 12  112233018  0.0060985585 0.0048"
      ]
     },
     "metadata": {},
     "output_type": "display_data"
    },
    {
     "data": {
      "text/html": [
       "396"
      ],
      "text/latex": [
       "396"
      ],
      "text/markdown": [
       "396"
      ],
      "text/plain": [
       "[1] 396"
      ]
     },
     "metadata": {},
     "output_type": "display_data"
    }
   ],
   "source": [
    "## Merging the significant SNPs (as determiend by LD CLumping) with their CHR, BETA, BP, and SE from the full, clean dataset\n",
    "intersect_data_CAD <- left_join(SNP_data, og_CAD %>% select(CHR, SNP, BP, BETA.CAD=BETA, SE.CAD=SE_BETA), by = \"SNP\")\n",
    "intersect_data_MDD <- left_join(SNP_data, og_MDD %>% select(CHR, SNP, BP, BETA.MDD=BETA, SE.MDD=SE_BETA), by = \"SNP\")\n",
    "\n",
    "# checking\n",
    "head(intersect_data_CAD)\n",
    "nrow(intersect_data_CAD)\n",
    "head(intersect_data_MDD)\n",
    "nrow(intersect_data_MDD)\n",
    "\n",
    "# there should be 396 SNPs in each"
   ]
  },
  {
   "cell_type": "markdown",
   "metadata": {},
   "source": [
    "### Merging and longating the Dataframes"
   ]
  },
  {
   "cell_type": "code",
   "execution_count": 38,
   "metadata": {},
   "outputs": [
    {
     "data": {
      "text/html": [
       "<table class=\"dataframe\">\n",
       "<caption>A data.table: 6 × 7</caption>\n",
       "<thead>\n",
       "\t<tr><th scope=col>CHR</th><th scope=col>SNP</th><th scope=col>BP</th><th scope=col>BETA.CAD</th><th scope=col>SE.CAD</th><th scope=col>BETA.MDD</th><th scope=col>SE.MDD</th></tr>\n",
       "\t<tr><th scope=col>&lt;int&gt;</th><th scope=col>&lt;chr&gt;</th><th scope=col>&lt;int&gt;</th><th scope=col>&lt;dbl&gt;</th><th scope=col>&lt;dbl&gt;</th><th scope=col>&lt;dbl&gt;</th><th scope=col>&lt;dbl&gt;</th></tr>\n",
       "</thead>\n",
       "<tbody>\n",
       "\t<tr><td>1</td><td>rs10779284</td><td>217092655</td><td> 0.011537</td><td>0.0092844</td><td> 0.018497855</td><td>0.0042</td></tr>\n",
       "\t<tr><td>1</td><td>rs10874124</td><td> 80833454</td><td>-0.007670</td><td>0.0098558</td><td>-0.021601645</td><td>0.0046</td></tr>\n",
       "\t<tr><td>1</td><td>rs10922298</td><td>197811566</td><td>-0.004307</td><td>0.0092497</td><td> 0.025994960</td><td>0.0043</td></tr>\n",
       "\t<tr><td>1</td><td>rs11206510</td><td> 55496039</td><td> 0.074519</td><td>0.0133438</td><td>-0.001901807</td><td>0.0054</td></tr>\n",
       "\t<tr><td>1</td><td>rs11485595</td><td> 38411350</td><td>-0.048311</td><td>0.0100502</td><td> 0.003404199</td><td>0.0043</td></tr>\n",
       "\t<tr><td>1</td><td>rs11591147</td><td> 55505647</td><td> 0.256502</td><td>0.0572588</td><td>-0.025399863</td><td>0.0156</td></tr>\n",
       "</tbody>\n",
       "</table>\n"
      ],
      "text/latex": [
       "A data.table: 6 × 7\n",
       "\\begin{tabular}{lllllll}\n",
       " CHR & SNP & BP & BETA.CAD & SE.CAD & BETA.MDD & SE.MDD\\\\\n",
       " <int> & <chr> & <int> & <dbl> & <dbl> & <dbl> & <dbl>\\\\\n",
       "\\hline\n",
       "\t 1 & rs10779284 & 217092655 &  0.011537 & 0.0092844 &  0.018497855 & 0.0042\\\\\n",
       "\t 1 & rs10874124 &  80833454 & -0.007670 & 0.0098558 & -0.021601645 & 0.0046\\\\\n",
       "\t 1 & rs10922298 & 197811566 & -0.004307 & 0.0092497 &  0.025994960 & 0.0043\\\\\n",
       "\t 1 & rs11206510 &  55496039 &  0.074519 & 0.0133438 & -0.001901807 & 0.0054\\\\\n",
       "\t 1 & rs11485595 &  38411350 & -0.048311 & 0.0100502 &  0.003404199 & 0.0043\\\\\n",
       "\t 1 & rs11591147 &  55505647 &  0.256502 & 0.0572588 & -0.025399863 & 0.0156\\\\\n",
       "\\end{tabular}\n"
      ],
      "text/markdown": [
       "\n",
       "A data.table: 6 × 7\n",
       "\n",
       "| CHR &lt;int&gt; | SNP &lt;chr&gt; | BP &lt;int&gt; | BETA.CAD &lt;dbl&gt; | SE.CAD &lt;dbl&gt; | BETA.MDD &lt;dbl&gt; | SE.MDD &lt;dbl&gt; |\n",
       "|---|---|---|---|---|---|---|\n",
       "| 1 | rs10779284 | 217092655 |  0.011537 | 0.0092844 |  0.018497855 | 0.0042 |\n",
       "| 1 | rs10874124 |  80833454 | -0.007670 | 0.0098558 | -0.021601645 | 0.0046 |\n",
       "| 1 | rs10922298 | 197811566 | -0.004307 | 0.0092497 |  0.025994960 | 0.0043 |\n",
       "| 1 | rs11206510 |  55496039 |  0.074519 | 0.0133438 | -0.001901807 | 0.0054 |\n",
       "| 1 | rs11485595 |  38411350 | -0.048311 | 0.0100502 |  0.003404199 | 0.0043 |\n",
       "| 1 | rs11591147 |  55505647 |  0.256502 | 0.0572588 | -0.025399863 | 0.0156 |\n",
       "\n"
      ],
      "text/plain": [
       "  CHR SNP        BP        BETA.CAD  SE.CAD    BETA.MDD     SE.MDD\n",
       "1 1   rs10779284 217092655  0.011537 0.0092844  0.018497855 0.0042\n",
       "2 1   rs10874124  80833454 -0.007670 0.0098558 -0.021601645 0.0046\n",
       "3 1   rs10922298 197811566 -0.004307 0.0092497  0.025994960 0.0043\n",
       "4 1   rs11206510  55496039  0.074519 0.0133438 -0.001901807 0.0054\n",
       "5 1   rs11485595  38411350 -0.048311 0.0100502  0.003404199 0.0043\n",
       "6 1   rs11591147  55505647  0.256502 0.0572588 -0.025399863 0.0156"
      ]
     },
     "metadata": {},
     "output_type": "display_data"
    },
    {
     "data": {
      "text/html": [
       "396"
      ],
      "text/latex": [
       "396"
      ],
      "text/markdown": [
       "396"
      ],
      "text/plain": [
       "[1] 396"
      ]
     },
     "metadata": {},
     "output_type": "display_data"
    }
   ],
   "source": [
    "############# Merge to get BETA2 and SE_beta2 from MDD to CAD\n",
    "merged_data <- merge(union_data_CAD, union_data_MDD, by = c(\"CHR\", \"SNP\", \"BP\"), all = FALSE)\n",
    "\n",
    "# set as a data table\n",
    "setDT(merged_data)\n",
    "\n",
    "head(merged_data)\n",
    "nrow(merged_data)"
   ]
  },
  {
   "cell_type": "code",
   "execution_count": 39,
   "metadata": {},
   "outputs": [
    {
     "name": "stdout",
     "output_type": "stream",
     "text": [
      "[1] \"combined data frame done\"\n"
     ]
    },
    {
     "data": {
      "text/html": [
       "<table class=\"dataframe\">\n",
       "<caption>A data.table: 6 × 3</caption>\n",
       "<thead>\n",
       "\t<tr><th scope=col>SNP</th><th scope=col>BETA</th><th scope=col>SE</th></tr>\n",
       "\t<tr><th scope=col>&lt;chr&gt;</th><th scope=col>&lt;dbl&gt;</th><th scope=col>&lt;dbl&gt;</th></tr>\n",
       "</thead>\n",
       "<tbody>\n",
       "\t<tr><td>rs10779284</td><td> 0.011537</td><td>0.0092844</td></tr>\n",
       "\t<tr><td>rs10874124</td><td>-0.007670</td><td>0.0098558</td></tr>\n",
       "\t<tr><td>rs10922298</td><td>-0.004307</td><td>0.0092497</td></tr>\n",
       "\t<tr><td>rs11206510</td><td> 0.074519</td><td>0.0133438</td></tr>\n",
       "\t<tr><td>rs11485595</td><td>-0.048311</td><td>0.0100502</td></tr>\n",
       "\t<tr><td>rs11591147</td><td> 0.256502</td><td>0.0572588</td></tr>\n",
       "</tbody>\n",
       "</table>\n"
      ],
      "text/latex": [
       "A data.table: 6 × 3\n",
       "\\begin{tabular}{lll}\n",
       " SNP & BETA & SE\\\\\n",
       " <chr> & <dbl> & <dbl>\\\\\n",
       "\\hline\n",
       "\t rs10779284 &  0.011537 & 0.0092844\\\\\n",
       "\t rs10874124 & -0.007670 & 0.0098558\\\\\n",
       "\t rs10922298 & -0.004307 & 0.0092497\\\\\n",
       "\t rs11206510 &  0.074519 & 0.0133438\\\\\n",
       "\t rs11485595 & -0.048311 & 0.0100502\\\\\n",
       "\t rs11591147 &  0.256502 & 0.0572588\\\\\n",
       "\\end{tabular}\n"
      ],
      "text/markdown": [
       "\n",
       "A data.table: 6 × 3\n",
       "\n",
       "| SNP &lt;chr&gt; | BETA &lt;dbl&gt; | SE &lt;dbl&gt; |\n",
       "|---|---|---|\n",
       "| rs10779284 |  0.011537 | 0.0092844 |\n",
       "| rs10874124 | -0.007670 | 0.0098558 |\n",
       "| rs10922298 | -0.004307 | 0.0092497 |\n",
       "| rs11206510 |  0.074519 | 0.0133438 |\n",
       "| rs11485595 | -0.048311 | 0.0100502 |\n",
       "| rs11591147 |  0.256502 | 0.0572588 |\n",
       "\n"
      ],
      "text/plain": [
       "  SNP        BETA      SE       \n",
       "1 rs10779284  0.011537 0.0092844\n",
       "2 rs10874124 -0.007670 0.0098558\n",
       "3 rs10922298 -0.004307 0.0092497\n",
       "4 rs11206510  0.074519 0.0133438\n",
       "5 rs11485595 -0.048311 0.0100502\n",
       "6 rs11591147  0.256502 0.0572588"
      ]
     },
     "metadata": {},
     "output_type": "display_data"
    }
   ],
   "source": [
    "############## combined dataframe\n",
    "# create a long frame with only the SNP, BETA, and SE columns. The SNP column has two copies of each SNP that associate with either their\n",
    "# CAD BETA and SE or their MDD BETA and SE.\n",
    "df_long <- rbind(\n",
    "  merged_data[, .(SNP, BETA=BETA.CAD, SE=SE.CAD)],\n",
    "  merged_data[!is.na(BETA.MDD) & !is.na(SE.MDD), .(SNP, BETA = BETA.MDD, SE = SE.MDD)]\n",
    ")\n",
    "\n",
    "print(\"combined data frame done\")\n",
    "head(df_long)"
   ]
  },
  {
   "cell_type": "code",
   "execution_count": 14,
   "metadata": {},
   "outputs": [
    {
     "data": {
      "text/html": [
       "<table class=\"dataframe\">\n",
       "<caption>A data.table: 2 × 3</caption>\n",
       "<thead>\n",
       "\t<tr><th scope=col>SNP</th><th scope=col>BETA</th><th scope=col>SE</th></tr>\n",
       "\t<tr><th scope=col>&lt;chr&gt;</th><th scope=col>&lt;dbl&gt;</th><th scope=col>&lt;dbl&gt;</th></tr>\n",
       "</thead>\n",
       "<tbody>\n",
       "\t<tr><td>rs10779284</td><td>0.01153700</td><td>0.0092844</td></tr>\n",
       "\t<tr><td>rs10779284</td><td>0.01849785</td><td>0.0042000</td></tr>\n",
       "</tbody>\n",
       "</table>\n"
      ],
      "text/latex": [
       "A data.table: 2 × 3\n",
       "\\begin{tabular}{lll}\n",
       " SNP & BETA & SE\\\\\n",
       " <chr> & <dbl> & <dbl>\\\\\n",
       "\\hline\n",
       "\t rs10779284 & 0.01153700 & 0.0092844\\\\\n",
       "\t rs10779284 & 0.01849785 & 0.0042000\\\\\n",
       "\\end{tabular}\n"
      ],
      "text/markdown": [
       "\n",
       "A data.table: 2 × 3\n",
       "\n",
       "| SNP &lt;chr&gt; | BETA &lt;dbl&gt; | SE &lt;dbl&gt; |\n",
       "|---|---|---|\n",
       "| rs10779284 | 0.01153700 | 0.0092844 |\n",
       "| rs10779284 | 0.01849785 | 0.0042000 |\n",
       "\n"
      ],
      "text/plain": [
       "  SNP        BETA       SE       \n",
       "1 rs10779284 0.01153700 0.0092844\n",
       "2 rs10779284 0.01849785 0.0042000"
      ]
     },
     "metadata": {},
     "output_type": "display_data"
    }
   ],
   "source": [
    "df_long[df_long$SNP == \"rs10779284\",] # double checking to make sure the SNP repeats and maps to both CAD and MDD"
   ]
  },
  {
   "cell_type": "markdown",
   "metadata": {},
   "source": [
    "## Running the Fixed Effect Models"
   ]
  },
  {
   "cell_type": "code",
   "execution_count": 13,
   "metadata": {},
   "outputs": [
    {
     "name": "stdout",
     "output_type": "stream",
     "text": [
      "[1] \"fixed effects ran\"\n"
     ]
    },
    {
     "ename": "ERROR",
     "evalue": "\u001b[1m\u001b[33mError\u001b[39m in `left_join()`:\u001b[22m\n\u001b[1m\u001b[22m\u001b[33m!\u001b[39m Join columns in `y` must be present in the data.\n\u001b[31m✖\u001b[39m Problem with `SNP`.\n",
     "output_type": "error",
     "traceback": [
      "\u001b[1m\u001b[33mError\u001b[39m in `left_join()`:\u001b[22m\n\u001b[1m\u001b[22m\u001b[33m!\u001b[39m Join columns in `y` must be present in the data.\n\u001b[31m✖\u001b[39m Problem with `SNP`.\nTraceback:\n",
      "1. left_join.data.frame(res_meta_fixed, merged_data %>% select(CHR), \n .     by = \"SNP\")",
      "2. join_mutate(x = x, y = y, by = by, type = \"left\", suffix = suffix, \n .     na_matches = na_matches, keep = keep, multiple = multiple, \n .     unmatched = unmatched, relationship = relationship, user_env = caller_env())",
      "3. join_cols(x_names = x_names, y_names = y_names, by = by, suffix = suffix, \n .     keep = keep, error_call = error_call)",
      "4. check_join_vars(by$y, y_names, by$condition, \"y\", error_call = error_call)",
      "5. abort(bullets, call = error_call)",
      "6. signal_abort(cnd, .file)",
      "7. signalCondition(cnd)"
     ]
    }
   ],
   "source": [
    "############## running fixed effect modules\n",
    "meta_per_snp <- function(snp_data) {\n",
    "  tryCatch({\n",
    "    res <- rma(yi = BETA, sei = SE, data = snp_data, method = \"FE\")\n",
    "    data.frame(\n",
    "      snp = unique(snp_data$SNP),\n",
    "      beta_random = as.numeric(res$b),\n",
    "      se_random = res$se,\n",
    "      pval_random = res$pval,\n",
    "      tau_random = res$tau2\n",
    "    )\n",
    "  }, error = function(e) {\n",
    "    message(\"Meta-analysis failed for SNP: \", unique(snp_data$SNP))\n",
    "    data.frame(\n",
    "      snp = unique(snp_data$SNP),\n",
    "      beta_fixed = NA,\n",
    "      se_fixed = NA,\n",
    "      pval_fixed = NA,\n",
    "      tau_random = NA\n",
    "    )\n",
    "  })\n",
    "}\n",
    "\n",
    "\n",
    "# Apply to each SNP\n",
    "res_meta_fixed <- df_long %>%\n",
    "  group_by(SNP) %>%\n",
    "  group_split() %>%\n",
    "  lapply(meta_per_snp) %>%\n",
    "  bind_rows()\n",
    "\n",
    "print(\"fixed effects ran\")\n",
    "\n",
    "############## writing fixed modules to file\n",
    "# renaming columns for uniformity\n",
    "colnames(res_meta_fixed) <- c(\"SNP\", \"BETA\", \"SE\", \"Pval\", \"Tau\")\n",
    "\n",
    "#arranging by pVal\n",
    "res_meta_fixed <- res_meta_fixed %>%\n",
    "    arrange(Pval)\n",
    "\n",
    "#creating large dataframe with BP and CHR (missing information after running fixed effect models\n",
    "res_meta_fixed_data <- left_join(res_meta_fixed, merged_data %>% select(CHR, BP, SNP), by = \"SNP\")\n",
    "\n",
    "#write this frame to a txt file\n",
    "fwrite(res_meta_fixed_data, \"res_meta_fixed.txt\", sep = \"\\t\")"
   ]
  },
  {
   "cell_type": "code",
   "execution_count": null,
   "metadata": {},
   "outputs": [],
   "source": [
    "res_meta_fixed_data[res_meta_fixed_data$SNP == \"rs2071382\",]"
   ]
  },
  {
   "cell_type": "markdown",
   "metadata": {},
   "source": [
    "## Running Random Effects Model"
   ]
  },
  {
   "cell_type": "code",
   "execution_count": 25,
   "metadata": {},
   "outputs": [
    {
     "name": "stdout",
     "output_type": "stream",
     "text": [
      "[1] \"random effects ran\"\n"
     ]
    }
   ],
   "source": [
    "############### random-effect model \n",
    "meta_per_snp <- function(snp_data) {\n",
    "  tryCatch({\n",
    "    res <- rma(yi = BETA, sei = SE, data = snp_data, method = \"DL\")\n",
    "    data.frame(\n",
    "      snp = unique(snp_data$SNP),\n",
    "      beta_random = as.numeric(res$b),\n",
    "      se_random = res$se,\n",
    "      pval_random = res$pval,\n",
    "      tau_random = res$tau2\n",
    "    )\n",
    "  }, error = function(e) {\n",
    "    message(\"Meta-analysis failed for SNP: \", unique(snp_data$SNP))\n",
    "    data.frame(\n",
    "      snp = unique(snp_data$SNP),\n",
    "      beta_fixed = NA,\n",
    "      se_fixed = NA,\n",
    "      pval_fixed = NA,\n",
    "      tau_random = NA\n",
    "    )\n",
    "  })\n",
    "}\n",
    "\n",
    "# Apply to each SNP\n",
    "res_meta_rand <- df_long %>%\n",
    "  group_by(SNP) %>%\n",
    "  group_split() %>%\n",
    "  lapply(meta_per_snp) %>%\n",
    "  bind_rows()\n",
    "print(\"random effects ran\")\n",
    "\n",
    "############## writing fixed modules to file\n",
    "# renaming columns for uniformity\n",
    "colnames(res_meta_rand) <- c(\"SNP\", \"BETA\", \"SE\", \"Pval\", \"Tau\")\n",
    "\n",
    "#arranging by pVal\n",
    "res_meta_rand <- res_meta_rand %>%\n",
    "    arrange(Pval)\n",
    "\n",
    "#creating large dataframe with BP and CHR (missing information after running fixed effect models\n",
    "res_meta_rand_data <- left_join(res_meta_rand, merged_data %>% select(CHR, BP, SNP), by = \"SNP\")\n",
    "\n",
    "#write this frame to a txt file\n",
    "fwrite(res_meta_rand_data, \"res_meta_rand.txt\", sep = \"\\t\")"
   ]
  },
  {
   "cell_type": "code",
   "execution_count": null,
   "metadata": {},
   "outputs": [],
   "source": [
    "## Step 4. Which model to choose?\n",
    "#For meta-analysis across large-scale GWASs, the huge number of SNPs makes it computationally impossible to\n",
    "#check the heterogeneity across studies for each SNP. Therefore, the fixed-effect model is generally used. \n",
    "#Another justification is that GWAS studies are designed in the same way so the heterogeneity might be minimal. "
   ]
  }
 ],
 "metadata": {
  "kernelspec": {
   "display_name": "R",
   "language": "R",
   "name": "ir"
  },
  "language_info": {
   "codemirror_mode": "r",
   "file_extension": ".r",
   "mimetype": "text/x-r-source",
   "name": "R",
   "pygments_lexer": "r",
   "version": "4.4.3"
  }
 },
 "nbformat": 4,
 "nbformat_minor": 4
}
